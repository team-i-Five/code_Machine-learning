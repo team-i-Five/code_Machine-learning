{
 "cells": [
  {
   "cell_type": "code",
   "execution_count": 4,
   "metadata": {},
   "outputs": [
    {
     "ename": "ModuleNotFoundError",
     "evalue": "No module named 'sklearn'",
     "output_type": "error",
     "traceback": [
      "\u001b[0;31m---------------------------------------------------------------------------\u001b[0m",
      "\u001b[0;31mModuleNotFoundError\u001b[0m                       Traceback (most recent call last)",
      "\u001b[1;32m/home/user1/project/code_Machine-learning/model_test/NMF_v2.ipynb Cell 1\u001b[0m line \u001b[0;36m5\n\u001b[1;32m      <a href='vscode-notebook-cell://wsl%2Bubuntu-22.04/home/user1/project/code_Machine-learning/model_test/NMF_v2.ipynb#W0sdnNjb2RlLXJlbW90ZQ%3D%3D?line=2'>3</a>\u001b[0m \u001b[39mimport\u001b[39;00m \u001b[39mpandas\u001b[39;00m \u001b[39mas\u001b[39;00m \u001b[39mpd\u001b[39;00m \u001b[39m# 데이터프레임을 사용하기 위한 판다스 라이브러리\u001b[39;00m\n\u001b[1;32m      <a href='vscode-notebook-cell://wsl%2Bubuntu-22.04/home/user1/project/code_Machine-learning/model_test/NMF_v2.ipynb#W0sdnNjb2RlLXJlbW90ZQ%3D%3D?line=3'>4</a>\u001b[0m \u001b[39mimport\u001b[39;00m \u001b[39mnumpy\u001b[39;00m \u001b[39mas\u001b[39;00m \u001b[39mnp\u001b[39;00m \u001b[39m# 배열 및 행렬 연산을 위한 넘파이 라이브러리\u001b[39;00m\n\u001b[0;32m----> <a href='vscode-notebook-cell://wsl%2Bubuntu-22.04/home/user1/project/code_Machine-learning/model_test/NMF_v2.ipynb#W0sdnNjb2RlLXJlbW90ZQ%3D%3D?line=4'>5</a>\u001b[0m \u001b[39mfrom\u001b[39;00m \u001b[39msklearn\u001b[39;00m\u001b[39m.\u001b[39;00m\u001b[39mpreprocessing\u001b[39;00m \u001b[39mimport\u001b[39;00m StandardScaler \u001b[39m# 데이터 스케일링을 위한 스케일러 제공하는 라이브러리\u001b[39;00m\n\u001b[1;32m      <a href='vscode-notebook-cell://wsl%2Bubuntu-22.04/home/user1/project/code_Machine-learning/model_test/NMF_v2.ipynb#W0sdnNjb2RlLXJlbW90ZQ%3D%3D?line=5'>6</a>\u001b[0m \u001b[39mfrom\u001b[39;00m \u001b[39msklearn\u001b[39;00m\u001b[39m.\u001b[39;00m\u001b[39mdecomposition\u001b[39;00m \u001b[39mimport\u001b[39;00m NMF \u001b[39m# 비음수 행렬 분해(NMF) 모델을 사용하기 위한 라이브러리\u001b[39;00m\n\u001b[1;32m      <a href='vscode-notebook-cell://wsl%2Bubuntu-22.04/home/user1/project/code_Machine-learning/model_test/NMF_v2.ipynb#W0sdnNjb2RlLXJlbW90ZQ%3D%3D?line=6'>7</a>\u001b[0m \u001b[39mfrom\u001b[39;00m \u001b[39msklearn\u001b[39;00m\u001b[39m.\u001b[39;00m\u001b[39mmetrics\u001b[39;00m\u001b[39m.\u001b[39;00m\u001b[39mpairwise\u001b[39;00m \u001b[39mimport\u001b[39;00m cosine_similarity \u001b[39m# 코사인 유사도 계산을 위한 라이브러리\u001b[39;00m\n",
      "\u001b[0;31mModuleNotFoundError\u001b[0m: No module named 'sklearn'"
     ]
    }
   ],
   "source": [
    "import json # JSON 데이터를 다루기 위한 라이브러리\n",
    "import pymysql # MySQL 데이터베이스에 연결하고 쿼리 실행을 위한 라이브러리\n",
    "import pandas as pd # 데이터프레임을 사용하기 위한 판다스 라이브러리\n",
    "import numpy as np # 배열 및 행렬 연산을 위한 넘파이 라이브러리\n",
    "from sklearn.preprocessing import StandardScaler # 데이터 스케일링을 위한 스케일러 제공하는 라이브러리\n",
    "from sklearn.decomposition import NMF # 비음수 행렬 분해(NMF) 모델을 사용하기 위한 라이브러리\n",
    "from sklearn.metrics.pairwise import cosine_similarity # 코사인 유사도 계산을 위한 라이브러리\n",
    "from fastapi import FastAPI # FastAPI 웹 프레임워크\n",
    "from fastapi.responses import JSONResponse # FastAPI에서 사용할 JSON 응답 생성을 위한 라이브러리"
   ]
  },
  {
   "cell_type": "code",
   "execution_count": 2,
   "metadata": {},
   "outputs": [],
   "source": [
    "# MySQL 연결 설정 (애플리케이션 시작 시에 연결을 열고 종료 시에 닫음)\n",
    "db = pymysql.connect(\n",
    "    host='ifive-db.ckteh9hwnkjf.ap-northeast-2.rds.amazonaws.com',\n",
    "    port=3306,\n",
    "    user='admin',\n",
    "    passwd='ifive1234',\n",
    "    db='ifive',\n",
    "    charset='utf8'\n",
    ")"
   ]
  }
 ],
 "metadata": {
  "kernelspec": {
   "display_name": ".venv",
   "language": "python",
   "name": "python3"
  },
  "language_info": {
   "codemirror_mode": {
    "name": "ipython",
    "version": 3
   },
   "file_extension": ".py",
   "mimetype": "text/x-python",
   "name": "python",
   "nbconvert_exporter": "python",
   "pygments_lexer": "ipython3",
   "version": "3.12.0"
  }
 },
 "nbformat": 4,
 "nbformat_minor": 2
}
