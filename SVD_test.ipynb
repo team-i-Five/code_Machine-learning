{
 "cells": [
  {
   "cell_type": "code",
   "execution_count": 3,
   "metadata": {},
   "outputs": [
    {
     "name": "stdout",
     "output_type": "stream",
     "text": [
      "Collecting scikit-learn\n",
      "  Downloading scikit_learn-1.3.2-cp310-cp310-win_amd64.whl (9.3 MB)\n",
      "     ---------------------------------------- 9.3/9.3 MB 16.4 MB/s eta 0:00:00\n",
      "Collecting threadpoolctl>=2.0.0\n",
      "  Using cached threadpoolctl-3.2.0-py3-none-any.whl (15 kB)\n",
      "Collecting joblib>=1.1.1\n",
      "  Using cached joblib-1.3.2-py3-none-any.whl (302 kB)\n",
      "Collecting scipy>=1.5.0\n",
      "  Downloading scipy-1.11.3-cp310-cp310-win_amd64.whl (44.1 MB)\n",
      "     --------------------------------------- 44.1/44.1 MB 36.3 MB/s eta 0:00:00\n",
      "Requirement already satisfied: numpy<2.0,>=1.17.3 in c:\\users\\dsmdm\\appdata\\local\\programs\\python\\python310\\lib\\site-packages (from scikit-learn) (1.25.2)\n",
      "Installing collected packages: threadpoolctl, scipy, joblib, scikit-learn\n",
      "Successfully installed joblib-1.3.2 scikit-learn-1.3.2 scipy-1.11.3 threadpoolctl-3.2.0\n",
      "Note: you may need to restart the kernel to use updated packages.\n"
     ]
    },
    {
     "name": "stderr",
     "output_type": "stream",
     "text": [
      "\n",
      "[notice] A new release of pip available: 22.3.1 -> 23.3.1\n",
      "[notice] To update, run: python.exe -m pip install --upgrade pip\n"
     ]
    }
   ],
   "source": [
    "pip install scikit-learn"
   ]
  },
  {
   "cell_type": "code",
   "execution_count": 4,
   "metadata": {},
   "outputs": [],
   "source": [
    "import numpy as np\n",
    "import pandas as pd\n",
    "from sklearn.decomposition import TruncatedSVD\n",
    "import matplotlib.pyplot as plt\n",
    "import seaborn as sns"
   ]
  },
  {
   "cell_type": "code",
   "execution_count": 12,
   "metadata": {},
   "outputs": [
    {
     "name": "stderr",
     "output_type": "stream",
     "text": [
      "C:\\Users\\dsmdm\\AppData\\Local\\Temp\\ipykernel_15620\\2190025390.py:2: DtypeWarning: Columns (7) have mixed types. Specify dtype option on import or set low_memory=False.\n",
      "  data = pd.read_csv(\"library_book_data.csv\")\n"
     ]
    }
   ],
   "source": [
    "# CSV 파일에서 도서 데이터를 로드합니다.\n",
    "data = pd.read_csv(\"library_book_data.csv\")"
   ]
  },
  {
   "cell_type": "code",
   "execution_count": 13,
   "metadata": {},
   "outputs": [
    {
     "ename": "KeyError",
     "evalue": "'ISBN13번호'",
     "output_type": "error",
     "traceback": [
      "\u001b[1;31m---------------------------------------------------------------------------\u001b[0m",
      "\u001b[1;31mKeyError\u001b[0m                                  Traceback (most recent call last)",
      "File \u001b[1;32mc:\\Users\\dsmdm\\AppData\\Local\\Programs\\Python\\Python310\\lib\\site-packages\\pandas\\core\\indexes\\base.py:3653\u001b[0m, in \u001b[0;36mIndex.get_loc\u001b[1;34m(self, key)\u001b[0m\n\u001b[0;32m   3652\u001b[0m \u001b[39mtry\u001b[39;00m:\n\u001b[1;32m-> 3653\u001b[0m     \u001b[39mreturn\u001b[39;00m \u001b[39mself\u001b[39;49m\u001b[39m.\u001b[39;49m_engine\u001b[39m.\u001b[39;49mget_loc(casted_key)\n\u001b[0;32m   3654\u001b[0m \u001b[39mexcept\u001b[39;00m \u001b[39mKeyError\u001b[39;00m \u001b[39mas\u001b[39;00m err:\n",
      "File \u001b[1;32mc:\\Users\\dsmdm\\AppData\\Local\\Programs\\Python\\Python310\\lib\\site-packages\\pandas\\_libs\\index.pyx:147\u001b[0m, in \u001b[0;36mpandas._libs.index.IndexEngine.get_loc\u001b[1;34m()\u001b[0m\n",
      "File \u001b[1;32mc:\\Users\\dsmdm\\AppData\\Local\\Programs\\Python\\Python310\\lib\\site-packages\\pandas\\_libs\\index.pyx:176\u001b[0m, in \u001b[0;36mpandas._libs.index.IndexEngine.get_loc\u001b[1;34m()\u001b[0m\n",
      "File \u001b[1;32mpandas\\_libs\\hashtable_class_helper.pxi:7080\u001b[0m, in \u001b[0;36mpandas._libs.hashtable.PyObjectHashTable.get_item\u001b[1;34m()\u001b[0m\n",
      "File \u001b[1;32mpandas\\_libs\\hashtable_class_helper.pxi:7088\u001b[0m, in \u001b[0;36mpandas._libs.hashtable.PyObjectHashTable.get_item\u001b[1;34m()\u001b[0m\n",
      "\u001b[1;31mKeyError\u001b[0m: 'ISBN13번호'",
      "\nThe above exception was the direct cause of the following exception:\n",
      "\u001b[1;31mKeyError\u001b[0m                                  Traceback (most recent call last)",
      "\u001b[1;32mUbuntu\\home\\user1\\code\\code_Machine-learning\\SVD_test.ipynb Cell 4\u001b[0m line \u001b[0;36m2\n\u001b[0;32m      <a href='vscode-notebook-cell://wsl.localhost/Ubuntu/home/user1/code/code_Machine-learning/SVD_test.ipynb#W2sZmlsZQ%3D%3D?line=0'>1</a>\u001b[0m \u001b[39m# ISBN13 번호를 고유한 숫자 ID로 매핑하는 딕셔너리를 생성합니다.\u001b[39;00m\n\u001b[1;32m----> <a href='vscode-notebook-cell://wsl.localhost/Ubuntu/home/user1/code/code_Machine-learning/SVD_test.ipynb#W2sZmlsZQ%3D%3D?line=1'>2</a>\u001b[0m isbn_to_id \u001b[39m=\u001b[39m {isbn: i \u001b[39mfor\u001b[39;00m i, isbn \u001b[39min\u001b[39;00m \u001b[39menumerate\u001b[39m(data[\u001b[39m'\u001b[39;49m\u001b[39mISBN13번호\u001b[39;49m\u001b[39m'\u001b[39;49m])}\n\u001b[0;32m      <a href='vscode-notebook-cell://wsl.localhost/Ubuntu/home/user1/code/code_Machine-learning/SVD_test.ipynb#W2sZmlsZQ%3D%3D?line=3'>4</a>\u001b[0m \u001b[39m# 사용자-도서 평점 행렬을 생성합니다. 여기서는 랜덤 데이터를 사용합니다.\u001b[39;00m\n\u001b[0;32m      <a href='vscode-notebook-cell://wsl.localhost/Ubuntu/home/user1/code/code_Machine-learning/SVD_test.ipynb#W2sZmlsZQ%3D%3D?line=4'>5</a>\u001b[0m user_ratings \u001b[39m=\u001b[39m np\u001b[39m.\u001b[39mrandom\u001b[39m.\u001b[39mrandint(\u001b[39m1\u001b[39m, \u001b[39m6\u001b[39m, size\u001b[39m=\u001b[39m(\u001b[39mlen\u001b[39m(data),))\n",
      "File \u001b[1;32mc:\\Users\\dsmdm\\AppData\\Local\\Programs\\Python\\Python310\\lib\\site-packages\\pandas\\core\\frame.py:3761\u001b[0m, in \u001b[0;36mDataFrame.__getitem__\u001b[1;34m(self, key)\u001b[0m\n\u001b[0;32m   3759\u001b[0m \u001b[39mif\u001b[39;00m \u001b[39mself\u001b[39m\u001b[39m.\u001b[39mcolumns\u001b[39m.\u001b[39mnlevels \u001b[39m>\u001b[39m \u001b[39m1\u001b[39m:\n\u001b[0;32m   3760\u001b[0m     \u001b[39mreturn\u001b[39;00m \u001b[39mself\u001b[39m\u001b[39m.\u001b[39m_getitem_multilevel(key)\n\u001b[1;32m-> 3761\u001b[0m indexer \u001b[39m=\u001b[39m \u001b[39mself\u001b[39;49m\u001b[39m.\u001b[39;49mcolumns\u001b[39m.\u001b[39;49mget_loc(key)\n\u001b[0;32m   3762\u001b[0m \u001b[39mif\u001b[39;00m is_integer(indexer):\n\u001b[0;32m   3763\u001b[0m     indexer \u001b[39m=\u001b[39m [indexer]\n",
      "File \u001b[1;32mc:\\Users\\dsmdm\\AppData\\Local\\Programs\\Python\\Python310\\lib\\site-packages\\pandas\\core\\indexes\\base.py:3655\u001b[0m, in \u001b[0;36mIndex.get_loc\u001b[1;34m(self, key)\u001b[0m\n\u001b[0;32m   3653\u001b[0m     \u001b[39mreturn\u001b[39;00m \u001b[39mself\u001b[39m\u001b[39m.\u001b[39m_engine\u001b[39m.\u001b[39mget_loc(casted_key)\n\u001b[0;32m   3654\u001b[0m \u001b[39mexcept\u001b[39;00m \u001b[39mKeyError\u001b[39;00m \u001b[39mas\u001b[39;00m err:\n\u001b[1;32m-> 3655\u001b[0m     \u001b[39mraise\u001b[39;00m \u001b[39mKeyError\u001b[39;00m(key) \u001b[39mfrom\u001b[39;00m \u001b[39merr\u001b[39;00m\n\u001b[0;32m   3656\u001b[0m \u001b[39mexcept\u001b[39;00m \u001b[39mTypeError\u001b[39;00m:\n\u001b[0;32m   3657\u001b[0m     \u001b[39m# If we have a listlike key, _check_indexing_error will raise\u001b[39;00m\n\u001b[0;32m   3658\u001b[0m     \u001b[39m#  InvalidIndexError. Otherwise we fall through and re-raise\u001b[39;00m\n\u001b[0;32m   3659\u001b[0m     \u001b[39m#  the TypeError.\u001b[39;00m\n\u001b[0;32m   3660\u001b[0m     \u001b[39mself\u001b[39m\u001b[39m.\u001b[39m_check_indexing_error(key)\n",
      "\u001b[1;31mKeyError\u001b[0m: 'ISBN13번호'"
     ]
    }
   ],
   "source": [
    "# ISBN13 번호를 고유한 숫자 ID로 매핑하는 딕셔너리를 생성합니다.\n",
    "isbn_to_id = {isbn: i for i, isbn in enumerate(data['ISBN13번호'])}\n",
    "\n",
    "# 사용자-도서 평점 행렬을 생성합니다. 여기서는 랜덤 데이터를 사용합니다.\n",
    "user_ratings = np.random.randint(1, 6, size=(len(data),))\n",
    "\n",
    "# 사용자-도서 평점 행렬을 생성한 후, TruncatedSVD를 적용합니다.\n",
    "# 여기에서는 5개의 잠재 요인을 사용하고, K 값은 조정 가능합니다.\n",
    "num_latent_factors = 5\n",
    "svd = TruncatedSVD(n_components=num_latent_factors)\n",
    "U = svd.fit_transform(user_ratings.reshape(-1, 1))\n",
    "Vt = svd.components_\n",
    "\n",
    "# 예측 평점 행렬을 계산합니다.\n",
    "predicted_ratings = np.dot(U, Vt)\n",
    "\n",
    "# 특정 사용자에게 도서를 추천하려면 해당 사용자의 평점 행렬과 예측 평점 행렬을 비교합니다.\n",
    "user_id = 0  # 추천을 받을 사용자 ID\n",
    "user_ratings = predicted_ratings[user_id, :]\n",
    "\n",
    "# 사용자가 아직 평가하지 않은 도서를 추출합니다.\n",
    "unrated_books = [i for i, rating in enumerate(user_ratings) if rating == 0]\n",
    "\n",
    "# 추천 도서를 정렬하여 반환합니다.\n",
    "recommended_books = [\n",
    "    (data.iloc[i]['제목명'], data.iloc[i]['ISBN13번호'])  # 도서 제목과 ISBN13 번호\n",
    "    for i in unrated_books\n",
    "]\n",
    "\n",
    "# 추천 도서를 평점이 높은 순으로 정렬합니다.\n",
    "recommended_books.sort(key=lambda x: -user_ratings[x[0]])\n",
    "\n",
    "# 상위 N개의 도서를 추천합니다.\n",
    "N = 10  # 상위 N개 도서 추천\n",
    "top_n_recommendations = recommended_books[:N]\n",
    "\n",
    "print(f\"사용자 {user_id}에게 {N}개의 도서를 추천합니다:\")\n",
    "for book in top_n_recommendations:\n",
    "    print(f\"도서 제목: {book[0]}, ISBN13: {book[1]}\")"
   ]
  }
 ],
 "metadata": {
  "kernelspec": {
   "display_name": "Python 3",
   "language": "python",
   "name": "python3"
  },
  "language_info": {
   "codemirror_mode": {
    "name": "ipython",
    "version": 3
   },
   "file_extension": ".py",
   "mimetype": "text/x-python",
   "name": "python",
   "nbconvert_exporter": "python",
   "pygments_lexer": "ipython3",
   "version": "3.10.9"
  }
 },
 "nbformat": 4,
 "nbformat_minor": 2
}
