{
 "cells": [
  {
   "cell_type": "code",
   "execution_count": 1,
   "metadata": {},
   "outputs": [],
   "source": [
    "import pandas as pd\n",
    "import numpy as np\n",
    "from sklearn.feature_extraction.text import TfidfVectorizer # sklearn 안에 있는 패키지\n",
    "from sklearn.metrics.pairwise import cosine_similarity # TF-IDF 값을 기준으로 코사인 유사도를 통해 가장 유사한 제목을 찾아주기떄문에 cosine_similarity를 사용"
   ]
  },
  {
   "cell_type": "code",
   "execution_count": 2,
   "metadata": {},
   "outputs": [
    {
     "name": "stderr",
     "output_type": "stream",
     "text": [
      "/tmp/ipykernel_21392/600411025.py:2: DtypeWarning: Columns (7) have mixed types. Specify dtype option on import or set low_memory=False.\n",
      "  data = pd.read_csv(\"../library_book_data.csv\", encoding='utf-8')# 데이터 파일 경로\n"
     ]
    }
   ],
   "source": [
    "# 데이터를 데이터프레임으로 로드\n",
    "data = pd.read_csv(\"../library_book_data.csv\", encoding='utf-8')# 데이터 파일 경로"
   ]
  },
  {
   "cell_type": "code",
   "execution_count": 3,
   "metadata": {},
   "outputs": [
    {
     "name": "stderr",
     "output_type": "stream",
     "text": [
      "/tmp/ipykernel_21392/3805302243.py:2: FutureWarning: Setting an item of incompatible dtype is deprecated and will raise in a future error of pandas. Value '' has dtype incompatible with float64, please explicitly cast to a compatible dtype first.\n",
      "  data.fillna(\"\", inplace=True)\n"
     ]
    },
    {
     "name": "stdout",
     "output_type": "stream",
     "text": [
      "         SEQ_NO  ISBN_THIRTEEN_NO VLM_NM  \\\n",
      "0       6352228     9791156759270          \n",
      "1       6352229     9791168120877          \n",
      "2       6352230     9791168120839          \n",
      "3       6352231     9791168120846          \n",
      "4       6352232     9791168120747          \n",
      "...         ...               ...    ...   \n",
      "157113  6372497     9781191496148          \n",
      "157114  6372498     9781161755015          \n",
      "157115  6372499     9781197192907          \n",
      "157116  6372500     9781188005384          \n",
      "157117  6372501     9781191334426          \n",
      "\n",
      "                                                 TITLE_NM  \\\n",
      "0            너에게 목소리를 보낼게 - &lt;달빛천사&gt; 성우 이용신의 첫 번째 에세이   \n",
      "1                   일기에도 거짓말을 쓰는 사람 - 99년생 시인의 자의식 과잉 에세이   \n",
      "2                             본격 한중일 세계사 12 - 임오군란과 통킹 위기   \n",
      "3                    즉시 기분을 바꿔드립니다 - 신기하게 마음이 편해지는 응급 처방전   \n",
      "4                               오늘도 리추얼 : 음악, 나에게 선물하는 시간   \n",
      "...                                                   ...   \n",
      "157113            설민석의 세계사 대모험 11 (영국 산업 혁명 편: 혁명에 맞선 자들)   \n",
      "157114  A Clinical Atlas: Variations of the Bones of t...   \n",
      "157115         과탑이 알려 주는 대학 생활 한 권으로 끝내기 (어서와, 대학은 처음이지?)   \n",
      "157116  중학영문법 총정리 한권으로 끝내기 (EBS강사 혼공쌤 허준석의 &quot;쉽고 재미...   \n",
      "157117                             더 빅 윈 (이룰 것인가, 남길 것인가)   \n",
      "\n",
      "                         AUTHR_NM          PUBLISHER_NM PBLICTE_DE  \\\n",
      "0                       이용신 (지은이)                   푸른숲              \n",
      "1                       차도하 (지은이)                위즈덤하우스              \n",
      "2                     굽시니스트 (지은이)                위즈덤하우스              \n",
      "3       올리비아 레메스 (지은이), 김잔디 (옮긴이)                위즈덤하우스              \n",
      "4                       정혜윤 (지은이)                위즈덤하우스              \n",
      "...                           ...                   ...        ...   \n",
      "157113                    김정욱|설민석                  단꿈아이              \n",
      "157114        Thomas Dwight (지은이)  Kessinger Publishing              \n",
      "157115                        조유림                 든든한서재              \n",
      "157116                    허준석|정다운                  쏠티북스              \n",
      "157117                        신문범                클라우드나인              \n",
      "\n",
      "       ADTION_SMBL_NM PRC_VALUE  \\\n",
      "0                       16000.0   \n",
      "1                       15800.0   \n",
      "2                       14800.0   \n",
      "3                       14000.0   \n",
      "4                       15000.0   \n",
      "...               ...       ...   \n",
      "157113                            \n",
      "157114                            \n",
      "157115                            \n",
      "157116                            \n",
      "157117                            \n",
      "\n",
      "                                                IMAGE_URL  \\\n",
      "0       https://image.aladin.co.kr/product/28415/8/cov...   \n",
      "1       https://image.aladin.co.kr/product/28414/66/co...   \n",
      "2       https://image.aladin.co.kr/product/28414/47/co...   \n",
      "3       https://image.aladin.co.kr/product/28414/30/co...   \n",
      "4       https://image.aladin.co.kr/product/28413/80/co...   \n",
      "...                                                   ...   \n",
      "157113                                                      \n",
      "157114  https://image.aladin.co.kr/product/7275/80/cov...   \n",
      "157115                                                      \n",
      "157116                                                      \n",
      "157117                                                      \n",
      "\n",
      "                                           BOOK_INTRCN_CN KDC_NM  \\\n",
      "0       2004년 방영한 애니메이션 &lt;달빛천사&gt;에서 주인공 루나(풀문) 역을 맡...          \n",
      "1       “그러니 나는 말하고 싶은 것을 말하겠다”「침착하게 사랑하기」 차도하 시인 첫 에세...          \n",
      "2       한중일 관계의 결정적 분기점인 임오군란의 막전 막후를 다룬다. 러시아의 세력 확장을...          \n",
      "3       누구에게나 기분 구급상자가 필요하다. 하나씩 하나씩 차근차근, 좋은 기분을 쌓고 건...          \n",
      "4       나다운 일상을 만드는 사람들의 이야기를 담은 『오늘도 리추얼』 시리즈가 위즈덤하우스...          \n",
      "...                                                   ...    ...   \n",
      "157113                                                             \n",
      "157114                                                             \n",
      "157115                                                             \n",
      "157116                                                             \n",
      "157117                                                             \n",
      "\n",
      "                                            TITLE_SBST_NM    AUTHR_SBST_NM  \\\n",
      "0                                                                            \n",
      "1                                                                            \n",
      "2                                                                            \n",
      "3                                                                            \n",
      "4                                                                            \n",
      "...                                                   ...              ...   \n",
      "157113                         설민석의세계사대모험11영국산업혁명편혁명에맞선자들           김정욱설민석   \n",
      "157114  aclinicalatlasvariationsofthebonesofthehandsan...  thomasdwight지은이   \n",
      "157115                      과탑이알려주는대학생활한권으로끝내기어서와,대학은처음이지              조유림   \n",
      "157116  중학영문법총정리한권으로끝내기ebs강사혼공쌤허준석의quot쉽고재미있게끝내는중학영문법quot           허준석정다운   \n",
      "157117                                     더빅윈이룰것인가,남길것인가              신문범   \n",
      "\n",
      "       TWO_PBLICTE_DE INTNT_BOOKST_BOOK_EXST_AT PORTAL_SITE_BOOK_EXST_AT  \\\n",
      "0          2021-12-03                                                      \n",
      "1          2021-12-06                                                      \n",
      "2          2021-12-01                                                      \n",
      "3          2021-12-01                                                      \n",
      "4          2021-12-01                                                      \n",
      "...               ...                       ...                      ...   \n",
      "157113                                        Y                        Y   \n",
      "157114     2010-05-23                         Y                        Y   \n",
      "157115                                        Y                        Y   \n",
      "157116                                        Y                        Y   \n",
      "157117                                        Y                        Y   \n",
      "\n",
      "       ISBN_NO  \n",
      "0               \n",
      "1               \n",
      "2               \n",
      "3               \n",
      "4               \n",
      "...        ...  \n",
      "157113          \n",
      "157114          \n",
      "157115          \n",
      "157116          \n",
      "157117          \n",
      "\n",
      "[157118 rows x 18 columns]\n"
     ]
    }
   ],
   "source": [
    "# Null 값은 빈 문자열로 대체\n",
    "data.fillna(\"\", inplace=True)\n",
    "print(data)"
   ]
  },
  {
   "cell_type": "code",
   "execution_count": 5,
   "metadata": {},
   "outputs": [],
   "source": [
    "# TF-IDF 벡터화기 생성\n",
    "tfidf_vectorizer = TfidfVectorizer()"
   ]
  },
  {
   "cell_type": "code",
   "execution_count": 11,
   "metadata": {},
   "outputs": [],
   "source": [
    "# TF-IDF 매트릭스 계산\n",
    "tfidf_matrix = tfidf_vectorizer.fit_transform(data[\"BOOK_INTRCN_CN\"])"
   ]
  },
  {
   "cell_type": "code",
   "execution_count": 12,
   "metadata": {},
   "outputs": [
    {
     "name": "stdout",
     "output_type": "stream",
     "text": [
      "  (0, 243763)\t0.0538320077294149\n",
      "  (0, 331904)\t0.10779881667428079\n",
      "  (0, 133501)\t0.14340098386723107\n",
      "  (0, 256580)\t0.1750329632918931\n",
      "  (0, 324920)\t0.12651710141098219\n",
      "  (0, 93465)\t0.15908897391220073\n",
      "  (0, 198100)\t0.10148926091713605\n",
      "  (0, 180866)\t0.16785069717543477\n",
      "  (0, 268913)\t0.19289158915275378\n",
      "  (0, 247883)\t0.1294079563956494\n",
      "  (0, 177362)\t0.10249925165208779\n",
      "  (0, 205605)\t0.11233153883679733\n",
      "  (0, 137665)\t0.09365437924698565\n",
      "  (0, 235547)\t0.39896535320019355\n",
      "  (0, 169806)\t0.3538951995461228\n",
      "  (0, 166501)\t0.1882151381865791\n",
      "  (0, 289644)\t0.14013895693701903\n",
      "  (0, 39376)\t0.08620732842829222\n",
      "  (0, 141923)\t0.14560852235911173\n",
      "  (0, 11509)\t0.19948267660009678\n",
      "  (0, 114857)\t0.3538951995461228\n",
      "  (0, 208367)\t0.19289158915275378\n",
      "  (0, 311970)\t0.19289158915275378\n",
      "  (0, 108504)\t0.18162405073923607\n",
      "  (0, 269162)\t0.10811956580640111\n",
      "  :\t:\n",
      "  (157111, 161693)\t0.2208374952678868\n",
      "  (157111, 333669)\t0.2208374952678868\n",
      "  (157111, 142536)\t0.2208374952678868\n",
      "  (157111, 128399)\t0.2208374952678868\n",
      "  (157111, 290671)\t0.2208374952678868\n",
      "  (157111, 52141)\t0.18129667627291177\n",
      "  (157111, 222276)\t0.20106708577039928\n",
      "  (157111, 266940)\t0.17400000636768087\n",
      "  (157111, 274229)\t0.2083637556756302\n",
      "  (157111, 334168)\t0.19829302061935702\n",
      "  (157111, 204803)\t0.19829302061935702\n",
      "  (157111, 104558)\t0.21354082536265587\n",
      "  (157111, 284876)\t0.17768544611978643\n",
      "  (157111, 52309)\t0.15904014060320248\n",
      "  (157111, 294600)\t0.15193802180633617\n",
      "  (157111, 243644)\t0.16220543425469483\n",
      "  (157111, 310583)\t0.13394811604517853\n",
      "  (157111, 204734)\t0.14888666608048295\n",
      "  (157111, 58554)\t0.11019087566746322\n",
      "  (157111, 82396)\t0.15514097147125666\n",
      "  (157111, 118083)\t0.12549002367597817\n",
      "  (157111, 225179)\t0.07320014663905866\n",
      "  (157111, 90697)\t0.09668959272137143\n",
      "  (157111, 83758)\t0.1222090009938035\n",
      "  (157111, 205591)\t0.11449236880687015\n"
     ]
    }
   ],
   "source": [
    "print(tfidf_matrix) "
   ]
  },
  {
   "cell_type": "code",
   "execution_count": 13,
   "metadata": {},
   "outputs": [
    {
     "ename": "MemoryError",
     "evalue": "Unable to allocate 10.7 GiB for an array with shape (1438150989,) and data type float64",
     "output_type": "error",
     "traceback": [
      "\u001b[0;31m---------------------------------------------------------------------------\u001b[0m",
      "\u001b[0;31mMemoryError\u001b[0m                               Traceback (most recent call last)",
      "\u001b[1;32m/home/user1/code/code_Machine-learning/Model_test/TF-IDF_test.ipynb 셀 7\u001b[0m line \u001b[0;36m2\n\u001b[1;32m      <a href='vscode-notebook-cell://wsl%2Bubuntu/home/user1/code/code_Machine-learning/Model_test/TF-IDF_test.ipynb#W6sdnNjb2RlLXJlbW90ZQ%3D%3D?line=0'>1</a>\u001b[0m \u001b[39m# 코사인 유사도 계산\u001b[39;00m\n\u001b[0;32m----> <a href='vscode-notebook-cell://wsl%2Bubuntu/home/user1/code/code_Machine-learning/Model_test/TF-IDF_test.ipynb#W6sdnNjb2RlLXJlbW90ZQ%3D%3D?line=1'>2</a>\u001b[0m cosine_sim \u001b[39m=\u001b[39m cosine_similarity(tfidf_matrix, tfidf_matrix)\n",
      "File \u001b[0;32m/usr/local/lib/python3.10/dist-packages/sklearn/utils/_param_validation.py:214\u001b[0m, in \u001b[0;36mvalidate_params.<locals>.decorator.<locals>.wrapper\u001b[0;34m(*args, **kwargs)\u001b[0m\n\u001b[1;32m    208\u001b[0m \u001b[39mtry\u001b[39;00m:\n\u001b[1;32m    209\u001b[0m     \u001b[39mwith\u001b[39;00m config_context(\n\u001b[1;32m    210\u001b[0m         skip_parameter_validation\u001b[39m=\u001b[39m(\n\u001b[1;32m    211\u001b[0m             prefer_skip_nested_validation \u001b[39mor\u001b[39;00m global_skip_validation\n\u001b[1;32m    212\u001b[0m         )\n\u001b[1;32m    213\u001b[0m     ):\n\u001b[0;32m--> 214\u001b[0m         \u001b[39mreturn\u001b[39;00m func(\u001b[39m*\u001b[39;49margs, \u001b[39m*\u001b[39;49m\u001b[39m*\u001b[39;49mkwargs)\n\u001b[1;32m    215\u001b[0m \u001b[39mexcept\u001b[39;00m InvalidParameterError \u001b[39mas\u001b[39;00m e:\n\u001b[1;32m    216\u001b[0m     \u001b[39m# When the function is just a wrapper around an estimator, we allow\u001b[39;00m\n\u001b[1;32m    217\u001b[0m     \u001b[39m# the function to delegate validation to the estimator, but we replace\u001b[39;00m\n\u001b[1;32m    218\u001b[0m     \u001b[39m# the name of the estimator by the name of the function in the error\u001b[39;00m\n\u001b[1;32m    219\u001b[0m     \u001b[39m# message to avoid confusion.\u001b[39;00m\n\u001b[1;32m    220\u001b[0m     msg \u001b[39m=\u001b[39m re\u001b[39m.\u001b[39msub(\n\u001b[1;32m    221\u001b[0m         \u001b[39mr\u001b[39m\u001b[39m\"\u001b[39m\u001b[39mparameter of \u001b[39m\u001b[39m\\\u001b[39m\u001b[39mw+ must be\u001b[39m\u001b[39m\"\u001b[39m,\n\u001b[1;32m    222\u001b[0m         \u001b[39mf\u001b[39m\u001b[39m\"\u001b[39m\u001b[39mparameter of \u001b[39m\u001b[39m{\u001b[39;00mfunc\u001b[39m.\u001b[39m\u001b[39m__qualname__\u001b[39m\u001b[39m}\u001b[39;00m\u001b[39m must be\u001b[39m\u001b[39m\"\u001b[39m,\n\u001b[1;32m    223\u001b[0m         \u001b[39mstr\u001b[39m(e),\n\u001b[1;32m    224\u001b[0m     )\n",
      "File \u001b[0;32m/usr/local/lib/python3.10/dist-packages/sklearn/metrics/pairwise.py:1586\u001b[0m, in \u001b[0;36mcosine_similarity\u001b[0;34m(X, Y, dense_output)\u001b[0m\n\u001b[1;32m   1583\u001b[0m \u001b[39melse\u001b[39;00m:\n\u001b[1;32m   1584\u001b[0m     Y_normalized \u001b[39m=\u001b[39m normalize(Y, copy\u001b[39m=\u001b[39m\u001b[39mTrue\u001b[39;00m)\n\u001b[0;32m-> 1586\u001b[0m K \u001b[39m=\u001b[39m safe_sparse_dot(X_normalized, Y_normalized\u001b[39m.\u001b[39;49mT, dense_output\u001b[39m=\u001b[39;49mdense_output)\n\u001b[1;32m   1588\u001b[0m \u001b[39mreturn\u001b[39;00m K\n",
      "File \u001b[0;32m/usr/local/lib/python3.10/dist-packages/sklearn/utils/extmath.py:192\u001b[0m, in \u001b[0;36msafe_sparse_dot\u001b[0;34m(a, b, dense_output)\u001b[0m\n\u001b[1;32m    190\u001b[0m         ret \u001b[39m=\u001b[39m np\u001b[39m.\u001b[39mdot(a, b)\n\u001b[1;32m    191\u001b[0m \u001b[39melse\u001b[39;00m:\n\u001b[0;32m--> 192\u001b[0m     ret \u001b[39m=\u001b[39m a \u001b[39m@\u001b[39;49m b\n\u001b[1;32m    194\u001b[0m \u001b[39mif\u001b[39;00m (\n\u001b[1;32m    195\u001b[0m     sparse\u001b[39m.\u001b[39missparse(a)\n\u001b[1;32m    196\u001b[0m     \u001b[39mand\u001b[39;00m sparse\u001b[39m.\u001b[39missparse(b)\n\u001b[1;32m    197\u001b[0m     \u001b[39mand\u001b[39;00m dense_output\n\u001b[1;32m    198\u001b[0m     \u001b[39mand\u001b[39;00m \u001b[39mhasattr\u001b[39m(ret, \u001b[39m\"\u001b[39m\u001b[39mtoarray\u001b[39m\u001b[39m\"\u001b[39m)\n\u001b[1;32m    199\u001b[0m ):\n\u001b[1;32m    200\u001b[0m     \u001b[39mreturn\u001b[39;00m ret\u001b[39m.\u001b[39mtoarray()\n",
      "File \u001b[0;32m/usr/local/lib/python3.10/dist-packages/scipy/sparse/_base.py:624\u001b[0m, in \u001b[0;36m_spbase.__matmul__\u001b[0;34m(self, other)\u001b[0m\n\u001b[1;32m    621\u001b[0m \u001b[39mif\u001b[39;00m isscalarlike(other):\n\u001b[1;32m    622\u001b[0m     \u001b[39mraise\u001b[39;00m \u001b[39mValueError\u001b[39;00m(\u001b[39m\"\u001b[39m\u001b[39mScalar operands are not allowed, \u001b[39m\u001b[39m\"\u001b[39m\n\u001b[1;32m    623\u001b[0m                      \u001b[39m\"\u001b[39m\u001b[39muse \u001b[39m\u001b[39m'\u001b[39m\u001b[39m*\u001b[39m\u001b[39m'\u001b[39m\u001b[39m instead\u001b[39m\u001b[39m\"\u001b[39m)\n\u001b[0;32m--> 624\u001b[0m \u001b[39mreturn\u001b[39;00m \u001b[39mself\u001b[39;49m\u001b[39m.\u001b[39;49m_mul_dispatch(other)\n",
      "File \u001b[0;32m/usr/local/lib/python3.10/dist-packages/scipy/sparse/_base.py:535\u001b[0m, in \u001b[0;36m_spbase._mul_dispatch\u001b[0;34m(self, other)\u001b[0m\n\u001b[1;32m    533\u001b[0m     \u001b[39mif\u001b[39;00m \u001b[39mself\u001b[39m\u001b[39m.\u001b[39mshape[\u001b[39m1\u001b[39m] \u001b[39m!=\u001b[39m other\u001b[39m.\u001b[39mshape[\u001b[39m0\u001b[39m]:\n\u001b[1;32m    534\u001b[0m         \u001b[39mraise\u001b[39;00m \u001b[39mValueError\u001b[39;00m(\u001b[39m'\u001b[39m\u001b[39mdimension mismatch\u001b[39m\u001b[39m'\u001b[39m)\n\u001b[0;32m--> 535\u001b[0m     \u001b[39mreturn\u001b[39;00m \u001b[39mself\u001b[39;49m\u001b[39m.\u001b[39;49m_mul_sparse_matrix(other)\n\u001b[1;32m    537\u001b[0m \u001b[39m# If it's a list or whatever, treat it like an array\u001b[39;00m\n\u001b[1;32m    538\u001b[0m other_a \u001b[39m=\u001b[39m np\u001b[39m.\u001b[39masanyarray(other)\n",
      "File \u001b[0;32m/usr/local/lib/python3.10/dist-packages/scipy/sparse/_compressed.py:529\u001b[0m, in \u001b[0;36m_cs_matrix._mul_sparse_matrix\u001b[0;34m(self, other)\u001b[0m\n\u001b[1;32m    527\u001b[0m indptr \u001b[39m=\u001b[39m np\u001b[39m.\u001b[39mempty(major_axis \u001b[39m+\u001b[39m \u001b[39m1\u001b[39m, dtype\u001b[39m=\u001b[39midx_dtype)\n\u001b[1;32m    528\u001b[0m indices \u001b[39m=\u001b[39m np\u001b[39m.\u001b[39mempty(nnz, dtype\u001b[39m=\u001b[39midx_dtype)\n\u001b[0;32m--> 529\u001b[0m data \u001b[39m=\u001b[39m np\u001b[39m.\u001b[39;49mempty(nnz, dtype\u001b[39m=\u001b[39;49mupcast(\u001b[39mself\u001b[39;49m\u001b[39m.\u001b[39;49mdtype, other\u001b[39m.\u001b[39;49mdtype))\n\u001b[1;32m    531\u001b[0m fn \u001b[39m=\u001b[39m \u001b[39mgetattr\u001b[39m(_sparsetools, \u001b[39mself\u001b[39m\u001b[39m.\u001b[39mformat \u001b[39m+\u001b[39m \u001b[39m'\u001b[39m\u001b[39m_matmat\u001b[39m\u001b[39m'\u001b[39m)\n\u001b[1;32m    532\u001b[0m fn(M, N, np\u001b[39m.\u001b[39masarray(\u001b[39mself\u001b[39m\u001b[39m.\u001b[39mindptr, dtype\u001b[39m=\u001b[39midx_dtype),\n\u001b[1;32m    533\u001b[0m    np\u001b[39m.\u001b[39masarray(\u001b[39mself\u001b[39m\u001b[39m.\u001b[39mindices, dtype\u001b[39m=\u001b[39midx_dtype),\n\u001b[1;32m    534\u001b[0m    \u001b[39mself\u001b[39m\u001b[39m.\u001b[39mdata,\n\u001b[0;32m   (...)\u001b[0m\n\u001b[1;32m    537\u001b[0m    other\u001b[39m.\u001b[39mdata,\n\u001b[1;32m    538\u001b[0m    indptr, indices, data)\n",
      "\u001b[0;31mMemoryError\u001b[0m: Unable to allocate 10.7 GiB for an array with shape (1438150989,) and data type float64"
     ]
    }
   ],
   "source": [
    "# 코사인 유사도 계산\n",
    "cosine_sim = cosine_similarity(tfidf_matrix, tfidf_matrix)"
   ]
  },
  {
   "cell_type": "code",
   "execution_count": 9,
   "metadata": {},
   "outputs": [
    {
     "name": "stdout",
     "output_type": "stream",
     "text": [
      "[[1. 0. 0. 0. 0. 0. 0. 0. 0. 0. 0. 0. 0. 0. 0. 0. 0. 0.]\n",
      " [0. 1. 0. 0. 0. 0. 0. 0. 0. 0. 0. 0. 0. 0. 0. 0. 0. 0.]\n",
      " [0. 0. 1. 0. 0. 0. 0. 0. 0. 0. 0. 0. 0. 0. 0. 0. 0. 0.]\n",
      " [0. 0. 0. 1. 0. 0. 0. 0. 0. 0. 0. 0. 0. 0. 0. 0. 0. 0.]\n",
      " [0. 0. 0. 0. 1. 0. 0. 0. 0. 0. 0. 0. 0. 0. 0. 0. 0. 0.]\n",
      " [0. 0. 0. 0. 0. 1. 0. 0. 0. 0. 0. 0. 0. 0. 0. 0. 0. 0.]\n",
      " [0. 0. 0. 0. 0. 0. 1. 0. 0. 0. 0. 0. 0. 0. 0. 0. 0. 0.]\n",
      " [0. 0. 0. 0. 0. 0. 0. 1. 0. 0. 0. 0. 0. 0. 0. 0. 0. 0.]\n",
      " [0. 0. 0. 0. 0. 0. 0. 0. 1. 0. 0. 0. 0. 0. 0. 0. 0. 0.]\n",
      " [0. 0. 0. 0. 0. 0. 0. 0. 0. 1. 0. 0. 0. 0. 0. 0. 0. 0.]\n",
      " [0. 0. 0. 0. 0. 0. 0. 0. 0. 0. 1. 0. 0. 0. 0. 0. 0. 0.]\n",
      " [0. 0. 0. 0. 0. 0. 0. 0. 0. 0. 0. 1. 0. 0. 0. 0. 0. 0.]\n",
      " [0. 0. 0. 0. 0. 0. 0. 0. 0. 0. 0. 0. 1. 0. 0. 0. 0. 0.]\n",
      " [0. 0. 0. 0. 0. 0. 0. 0. 0. 0. 0. 0. 0. 1. 0. 0. 0. 0.]\n",
      " [0. 0. 0. 0. 0. 0. 0. 0. 0. 0. 0. 0. 0. 0. 1. 0. 0. 0.]\n",
      " [0. 0. 0. 0. 0. 0. 0. 0. 0. 0. 0. 0. 0. 0. 0. 1. 0. 0.]\n",
      " [0. 0. 0. 0. 0. 0. 0. 0. 0. 0. 0. 0. 0. 0. 0. 0. 1. 0.]\n",
      " [0. 0. 0. 0. 0. 0. 0. 0. 0. 0. 0. 0. 0. 0. 0. 0. 0. 1.]]\n"
     ]
    }
   ],
   "source": [
    "print(cosine_sim)"
   ]
  },
  {
   "cell_type": "code",
   "execution_count": 10,
   "metadata": {},
   "outputs": [],
   "source": [
    "# 추천할 도서 선택 (예시: 첫 번째 도서)\n",
    "book_index = 2"
   ]
  },
  {
   "cell_type": "code",
   "execution_count": null,
   "metadata": {},
   "outputs": [],
   "source": [
    "# 해당 도서와 유사한 도서 추천 (상위 5개)\n",
    "similar_books = list(enumerate(cosine_sim[book_index]))\n",
    "similar_books.sort(key=lambda x: x[1], reverse=True)\n",
    "recommended_books = similar_books[1:6]"
   ]
  }
 ],
 "metadata": {
  "kernelspec": {
   "display_name": "Python 3",
   "language": "python",
   "name": "python3"
  },
  "language_info": {
   "codemirror_mode": {
    "name": "ipython",
    "version": 3
   },
   "file_extension": ".py",
   "mimetype": "text/x-python",
   "name": "python",
   "nbconvert_exporter": "python",
   "pygments_lexer": "ipython3",
   "version": "3.10.12"
  }
 },
 "nbformat": 4,
 "nbformat_minor": 2
}
