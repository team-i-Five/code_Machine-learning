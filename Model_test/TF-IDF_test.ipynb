{
 "cells": [
  {
   "cell_type": "markdown",
   "metadata": {},
   "source": [
    "### 기각"
   ]
  },
  {
   "cell_type": "markdown",
   "metadata": {},
   "source": [
    "##### 기각 사유\n",
    "선택한 단어가 각 줄거리에서 얼마나 자주 나타나는지와 자주나타나지않는지의 가중치를 구하여 각 가중치를 곱하는 방식하여 유사도를 측정하는 방식인데\n",
    "선택한 단어들 마다 유사도가 너무 낮아 줄거리를 다시 확인해본 결과 줄거리 자체가 짧다보니 반복되는 단어를 최대한 줄이는 형식으로 인해 단어의 빈도수로 측정하기 어려움을 확인 "
   ]
  },
  {
   "cell_type": "code",
   "execution_count": 7,
   "metadata": {},
   "outputs": [],
   "source": [
    "import pandas as pd\n",
    "import numpy as np\n",
    "import re #  Python의 정규 표현식(regular expression) 모듈 -> re.sub() 함수를 사용하여 문자열에서 정규 표현식 패턴에 일치하는 부분을 다른 문자열로 대체\n",
    "import html # html 엔터티 코드 제거를 위해 사용\n",
    "from sklearn.feature_extraction.text import TfidfVectorizer # sklearn 안에 있는 패키지\n",
    "from sklearn.metrics.pairwise import cosine_similarity # TF-IDF 값을 기준으로 코사인 유사도를 통해 가장 유사한 제목을 찾아주기떄문에 cosine_similarity를 사용"
   ]
  },
  {
   "cell_type": "markdown",
   "metadata": {},
   "source": [
    "#### 데이터 전처리 (특수문자 제거 및 null값 처리 후 csv파일로 저장)"
   ]
  },
  {
   "cell_type": "code",
   "execution_count": 8,
   "metadata": {},
   "outputs": [
    {
     "ename": "FileNotFoundError",
     "evalue": "[Errno 2] No such file or directory: '../libray_book_data.csv'",
     "output_type": "error",
     "traceback": [
      "\u001b[0;31m---------------------------------------------------------------------------\u001b[0m",
      "\u001b[0;31mFileNotFoundError\u001b[0m                         Traceback (most recent call last)",
      "\u001b[1;32m/home/user1/code/code_Machine-learning/Model_test/TF-IDF_test.ipynb 셀 5\u001b[0m line \u001b[0;36m2\n\u001b[1;32m      <a href='vscode-notebook-cell://wsl%2Bubuntu/home/user1/code/code_Machine-learning/Model_test/TF-IDF_test.ipynb#W4sdnNjb2RlLXJlbW90ZQ%3D%3D?line=0'>1</a>\u001b[0m \u001b[39m# 데이터를 데이터프레임으로 로드\u001b[39;00m\n\u001b[0;32m----> <a href='vscode-notebook-cell://wsl%2Bubuntu/home/user1/code/code_Machine-learning/Model_test/TF-IDF_test.ipynb#W4sdnNjb2RlLXJlbW90ZQ%3D%3D?line=1'>2</a>\u001b[0m data \u001b[39m=\u001b[39m pd\u001b[39m.\u001b[39;49mread_csv(\u001b[39m\"\u001b[39;49m\u001b[39m../libray_book_data.csv\u001b[39;49m\u001b[39m\"\u001b[39;49m, encoding\u001b[39m=\u001b[39;49m\u001b[39m'\u001b[39;49m\u001b[39mutf-8\u001b[39;49m\u001b[39m'\u001b[39;49m)\u001b[39m# 데이터 파일 경로\u001b[39;00m\n\u001b[1;32m      <a href='vscode-notebook-cell://wsl%2Bubuntu/home/user1/code/code_Machine-learning/Model_test/TF-IDF_test.ipynb#W4sdnNjb2RlLXJlbW90ZQ%3D%3D?line=2'>3</a>\u001b[0m \u001b[39mprint\u001b[39m(data)\n",
      "File \u001b[0;32m/usr/local/lib/python3.10/dist-packages/pandas/io/parsers/readers.py:948\u001b[0m, in \u001b[0;36mread_csv\u001b[0;34m(filepath_or_buffer, sep, delimiter, header, names, index_col, usecols, dtype, engine, converters, true_values, false_values, skipinitialspace, skiprows, skipfooter, nrows, na_values, keep_default_na, na_filter, verbose, skip_blank_lines, parse_dates, infer_datetime_format, keep_date_col, date_parser, date_format, dayfirst, cache_dates, iterator, chunksize, compression, thousands, decimal, lineterminator, quotechar, quoting, doublequote, escapechar, comment, encoding, encoding_errors, dialect, on_bad_lines, delim_whitespace, low_memory, memory_map, float_precision, storage_options, dtype_backend)\u001b[0m\n\u001b[1;32m    935\u001b[0m kwds_defaults \u001b[39m=\u001b[39m _refine_defaults_read(\n\u001b[1;32m    936\u001b[0m     dialect,\n\u001b[1;32m    937\u001b[0m     delimiter,\n\u001b[0;32m   (...)\u001b[0m\n\u001b[1;32m    944\u001b[0m     dtype_backend\u001b[39m=\u001b[39mdtype_backend,\n\u001b[1;32m    945\u001b[0m )\n\u001b[1;32m    946\u001b[0m kwds\u001b[39m.\u001b[39mupdate(kwds_defaults)\n\u001b[0;32m--> 948\u001b[0m \u001b[39mreturn\u001b[39;00m _read(filepath_or_buffer, kwds)\n",
      "File \u001b[0;32m/usr/local/lib/python3.10/dist-packages/pandas/io/parsers/readers.py:611\u001b[0m, in \u001b[0;36m_read\u001b[0;34m(filepath_or_buffer, kwds)\u001b[0m\n\u001b[1;32m    608\u001b[0m _validate_names(kwds\u001b[39m.\u001b[39mget(\u001b[39m\"\u001b[39m\u001b[39mnames\u001b[39m\u001b[39m\"\u001b[39m, \u001b[39mNone\u001b[39;00m))\n\u001b[1;32m    610\u001b[0m \u001b[39m# Create the parser.\u001b[39;00m\n\u001b[0;32m--> 611\u001b[0m parser \u001b[39m=\u001b[39m TextFileReader(filepath_or_buffer, \u001b[39m*\u001b[39;49m\u001b[39m*\u001b[39;49mkwds)\n\u001b[1;32m    613\u001b[0m \u001b[39mif\u001b[39;00m chunksize \u001b[39mor\u001b[39;00m iterator:\n\u001b[1;32m    614\u001b[0m     \u001b[39mreturn\u001b[39;00m parser\n",
      "File \u001b[0;32m/usr/local/lib/python3.10/dist-packages/pandas/io/parsers/readers.py:1448\u001b[0m, in \u001b[0;36mTextFileReader.__init__\u001b[0;34m(self, f, engine, **kwds)\u001b[0m\n\u001b[1;32m   1445\u001b[0m     \u001b[39mself\u001b[39m\u001b[39m.\u001b[39moptions[\u001b[39m\"\u001b[39m\u001b[39mhas_index_names\u001b[39m\u001b[39m\"\u001b[39m] \u001b[39m=\u001b[39m kwds[\u001b[39m\"\u001b[39m\u001b[39mhas_index_names\u001b[39m\u001b[39m\"\u001b[39m]\n\u001b[1;32m   1447\u001b[0m \u001b[39mself\u001b[39m\u001b[39m.\u001b[39mhandles: IOHandles \u001b[39m|\u001b[39m \u001b[39mNone\u001b[39;00m \u001b[39m=\u001b[39m \u001b[39mNone\u001b[39;00m\n\u001b[0;32m-> 1448\u001b[0m \u001b[39mself\u001b[39m\u001b[39m.\u001b[39m_engine \u001b[39m=\u001b[39m \u001b[39mself\u001b[39;49m\u001b[39m.\u001b[39;49m_make_engine(f, \u001b[39mself\u001b[39;49m\u001b[39m.\u001b[39;49mengine)\n",
      "File \u001b[0;32m/usr/local/lib/python3.10/dist-packages/pandas/io/parsers/readers.py:1705\u001b[0m, in \u001b[0;36mTextFileReader._make_engine\u001b[0;34m(self, f, engine)\u001b[0m\n\u001b[1;32m   1703\u001b[0m     \u001b[39mif\u001b[39;00m \u001b[39m\"\u001b[39m\u001b[39mb\u001b[39m\u001b[39m\"\u001b[39m \u001b[39mnot\u001b[39;00m \u001b[39min\u001b[39;00m mode:\n\u001b[1;32m   1704\u001b[0m         mode \u001b[39m+\u001b[39m\u001b[39m=\u001b[39m \u001b[39m\"\u001b[39m\u001b[39mb\u001b[39m\u001b[39m\"\u001b[39m\n\u001b[0;32m-> 1705\u001b[0m \u001b[39mself\u001b[39m\u001b[39m.\u001b[39mhandles \u001b[39m=\u001b[39m get_handle(\n\u001b[1;32m   1706\u001b[0m     f,\n\u001b[1;32m   1707\u001b[0m     mode,\n\u001b[1;32m   1708\u001b[0m     encoding\u001b[39m=\u001b[39;49m\u001b[39mself\u001b[39;49m\u001b[39m.\u001b[39;49moptions\u001b[39m.\u001b[39;49mget(\u001b[39m\"\u001b[39;49m\u001b[39mencoding\u001b[39;49m\u001b[39m\"\u001b[39;49m, \u001b[39mNone\u001b[39;49;00m),\n\u001b[1;32m   1709\u001b[0m     compression\u001b[39m=\u001b[39;49m\u001b[39mself\u001b[39;49m\u001b[39m.\u001b[39;49moptions\u001b[39m.\u001b[39;49mget(\u001b[39m\"\u001b[39;49m\u001b[39mcompression\u001b[39;49m\u001b[39m\"\u001b[39;49m, \u001b[39mNone\u001b[39;49;00m),\n\u001b[1;32m   1710\u001b[0m     memory_map\u001b[39m=\u001b[39;49m\u001b[39mself\u001b[39;49m\u001b[39m.\u001b[39;49moptions\u001b[39m.\u001b[39;49mget(\u001b[39m\"\u001b[39;49m\u001b[39mmemory_map\u001b[39;49m\u001b[39m\"\u001b[39;49m, \u001b[39mFalse\u001b[39;49;00m),\n\u001b[1;32m   1711\u001b[0m     is_text\u001b[39m=\u001b[39;49mis_text,\n\u001b[1;32m   1712\u001b[0m     errors\u001b[39m=\u001b[39;49m\u001b[39mself\u001b[39;49m\u001b[39m.\u001b[39;49moptions\u001b[39m.\u001b[39;49mget(\u001b[39m\"\u001b[39;49m\u001b[39mencoding_errors\u001b[39;49m\u001b[39m\"\u001b[39;49m, \u001b[39m\"\u001b[39;49m\u001b[39mstrict\u001b[39;49m\u001b[39m\"\u001b[39;49m),\n\u001b[1;32m   1713\u001b[0m     storage_options\u001b[39m=\u001b[39;49m\u001b[39mself\u001b[39;49m\u001b[39m.\u001b[39;49moptions\u001b[39m.\u001b[39;49mget(\u001b[39m\"\u001b[39;49m\u001b[39mstorage_options\u001b[39;49m\u001b[39m\"\u001b[39;49m, \u001b[39mNone\u001b[39;49;00m),\n\u001b[1;32m   1714\u001b[0m )\n\u001b[1;32m   1715\u001b[0m \u001b[39massert\u001b[39;00m \u001b[39mself\u001b[39m\u001b[39m.\u001b[39mhandles \u001b[39mis\u001b[39;00m \u001b[39mnot\u001b[39;00m \u001b[39mNone\u001b[39;00m\n\u001b[1;32m   1716\u001b[0m f \u001b[39m=\u001b[39m \u001b[39mself\u001b[39m\u001b[39m.\u001b[39mhandles\u001b[39m.\u001b[39mhandle\n",
      "File \u001b[0;32m/usr/local/lib/python3.10/dist-packages/pandas/io/common.py:872\u001b[0m, in \u001b[0;36mget_handle\u001b[0;34m(path_or_buf, mode, encoding, compression, memory_map, is_text, errors, storage_options)\u001b[0m\n\u001b[1;32m    863\u001b[0m         handle \u001b[39m=\u001b[39m \u001b[39mopen\u001b[39m(\n\u001b[1;32m    864\u001b[0m             handle,\n\u001b[1;32m    865\u001b[0m             ioargs\u001b[39m.\u001b[39mmode,\n\u001b[0;32m   (...)\u001b[0m\n\u001b[1;32m    868\u001b[0m             newline\u001b[39m=\u001b[39m\u001b[39m\"\u001b[39m\u001b[39m\"\u001b[39m,\n\u001b[1;32m    869\u001b[0m         )\n\u001b[1;32m    870\u001b[0m     \u001b[39melse\u001b[39;00m:\n\u001b[1;32m    871\u001b[0m         \u001b[39m# Binary mode\u001b[39;00m\n\u001b[0;32m--> 872\u001b[0m         handle \u001b[39m=\u001b[39m \u001b[39mopen\u001b[39;49m(handle, ioargs\u001b[39m.\u001b[39;49mmode)\n\u001b[1;32m    873\u001b[0m     handles\u001b[39m.\u001b[39mappend(handle)\n\u001b[1;32m    875\u001b[0m \u001b[39m# Convert BytesIO or file objects passed with an encoding\u001b[39;00m\n",
      "\u001b[0;31mFileNotFoundError\u001b[0m: [Errno 2] No such file or directory: '../libray_book_data.csv'"
     ]
    }
   ],
   "source": [
    "# 데이터를 데이터프레임으로 로드\n",
    "data = pd.read_csv(\"../library_book_data.csv\", encoding='utf-8')# 데이터 파일 경로\n",
    "print(data)"
   ]
  },
  {
   "cell_type": "code",
   "execution_count": null,
   "metadata": {},
   "outputs": [
    {
     "name": "stderr",
     "output_type": "stream",
     "text": [
      "/tmp/ipykernel_8124/3805302243.py:2: FutureWarning: Setting an item of incompatible dtype is deprecated and will raise in a future error of pandas. Value '' has dtype incompatible with float64, please explicitly cast to a compatible dtype first.\n",
      "  data.fillna(\"\", inplace=True)\n"
     ]
    },
    {
     "name": "stdout",
     "output_type": "stream",
     "text": [
      "         SEQ_NO  ISBN_THIRTEEN_NO VLM_NM  \\\n",
      "0       6352228     9791156759270          \n",
      "1       6352229     9791168120877          \n",
      "2       6352230     9791168120839          \n",
      "3       6352231     9791168120846          \n",
      "4       6352232     9791168120747          \n",
      "...         ...               ...    ...   \n",
      "157113  6372497     9781191496148          \n",
      "157114  6372498     9781161755015          \n",
      "157115  6372499     9781197192907          \n",
      "157116  6372500     9781188005384          \n",
      "157117  6372501     9781191334426          \n",
      "\n",
      "                                                 TITLE_NM  \\\n",
      "0            너에게 목소리를 보낼게 - &lt;달빛천사&gt; 성우 이용신의 첫 번째 에세이   \n",
      "1                   일기에도 거짓말을 쓰는 사람 - 99년생 시인의 자의식 과잉 에세이   \n",
      "2                             본격 한중일 세계사 12 - 임오군란과 통킹 위기   \n",
      "3                    즉시 기분을 바꿔드립니다 - 신기하게 마음이 편해지는 응급 처방전   \n",
      "4                               오늘도 리추얼 : 음악, 나에게 선물하는 시간   \n",
      "...                                                   ...   \n",
      "157113            설민석의 세계사 대모험 11 (영국 산업 혁명 편: 혁명에 맞선 자들)   \n",
      "157114  A Clinical Atlas: Variations of the Bones of t...   \n",
      "157115         과탑이 알려 주는 대학 생활 한 권으로 끝내기 (어서와, 대학은 처음이지?)   \n",
      "157116  중학영문법 총정리 한권으로 끝내기 (EBS강사 혼공쌤 허준석의 &quot;쉽고 재미...   \n",
      "157117                             더 빅 윈 (이룰 것인가, 남길 것인가)   \n",
      "\n",
      "                         AUTHR_NM          PUBLISHER_NM PBLICTE_DE  \\\n",
      "0                       이용신 (지은이)                   푸른숲              \n",
      "1                       차도하 (지은이)                위즈덤하우스              \n",
      "2                     굽시니스트 (지은이)                위즈덤하우스              \n",
      "3       올리비아 레메스 (지은이), 김잔디 (옮긴이)                위즈덤하우스              \n",
      "4                       정혜윤 (지은이)                위즈덤하우스              \n",
      "...                           ...                   ...        ...   \n",
      "157113                    김정욱|설민석                  단꿈아이              \n",
      "157114        Thomas Dwight (지은이)  Kessinger Publishing              \n",
      "157115                        조유림                 든든한서재              \n",
      "157116                    허준석|정다운                  쏠티북스              \n",
      "157117                        신문범                클라우드나인              \n",
      "\n",
      "       ADTION_SMBL_NM PRC_VALUE  \\\n",
      "0                       16000.0   \n",
      "1                       15800.0   \n",
      "2                       14800.0   \n",
      "3                       14000.0   \n",
      "4                       15000.0   \n",
      "...               ...       ...   \n",
      "157113                            \n",
      "157114                            \n",
      "157115                            \n",
      "157116                            \n",
      "157117                            \n",
      "\n",
      "                                                IMAGE_URL  \\\n",
      "0       https://image.aladin.co.kr/product/28415/8/cov...   \n",
      "1       https://image.aladin.co.kr/product/28414/66/co...   \n",
      "2       https://image.aladin.co.kr/product/28414/47/co...   \n",
      "3       https://image.aladin.co.kr/product/28414/30/co...   \n",
      "4       https://image.aladin.co.kr/product/28413/80/co...   \n",
      "...                                                   ...   \n",
      "157113                                                      \n",
      "157114  https://image.aladin.co.kr/product/7275/80/cov...   \n",
      "157115                                                      \n",
      "157116                                                      \n",
      "157117                                                      \n",
      "\n",
      "                                           BOOK_INTRCN_CN KDC_NM  \\\n",
      "0       2004년 방영한 애니메이션 &lt;달빛천사&gt;에서 주인공 루나(풀문) 역을 맡...          \n",
      "1       “그러니 나는 말하고 싶은 것을 말하겠다”「침착하게 사랑하기」 차도하 시인 첫 에세...          \n",
      "2       한중일 관계의 결정적 분기점인 임오군란의 막전 막후를 다룬다. 러시아의 세력 확장을...          \n",
      "3       누구에게나 기분 구급상자가 필요하다. 하나씩 하나씩 차근차근, 좋은 기분을 쌓고 건...          \n",
      "4       나다운 일상을 만드는 사람들의 이야기를 담은 『오늘도 리추얼』 시리즈가 위즈덤하우스...          \n",
      "...                                                   ...    ...   \n",
      "157113                                                             \n",
      "157114                                                             \n",
      "157115                                                             \n",
      "157116                                                             \n",
      "157117                                                             \n",
      "\n",
      "                                            TITLE_SBST_NM    AUTHR_SBST_NM  \\\n",
      "0                                                                            \n",
      "1                                                                            \n",
      "2                                                                            \n",
      "3                                                                            \n",
      "4                                                                            \n",
      "...                                                   ...              ...   \n",
      "157113                         설민석의세계사대모험11영국산업혁명편혁명에맞선자들           김정욱설민석   \n",
      "157114  aclinicalatlasvariationsofthebonesofthehandsan...  thomasdwight지은이   \n",
      "157115                      과탑이알려주는대학생활한권으로끝내기어서와,대학은처음이지              조유림   \n",
      "157116  중학영문법총정리한권으로끝내기ebs강사혼공쌤허준석의quot쉽고재미있게끝내는중학영문법quot           허준석정다운   \n",
      "157117                                     더빅윈이룰것인가,남길것인가              신문범   \n",
      "\n",
      "       TWO_PBLICTE_DE INTNT_BOOKST_BOOK_EXST_AT PORTAL_SITE_BOOK_EXST_AT  \\\n",
      "0          2021-12-03                                                      \n",
      "1          2021-12-06                                                      \n",
      "2          2021-12-01                                                      \n",
      "3          2021-12-01                                                      \n",
      "4          2021-12-01                                                      \n",
      "...               ...                       ...                      ...   \n",
      "157113                                        Y                        Y   \n",
      "157114     2010-05-23                         Y                        Y   \n",
      "157115                                        Y                        Y   \n",
      "157116                                        Y                        Y   \n",
      "157117                                        Y                        Y   \n",
      "\n",
      "       ISBN_NO  \n",
      "0               \n",
      "1               \n",
      "2               \n",
      "3               \n",
      "4               \n",
      "...        ...  \n",
      "157113          \n",
      "157114          \n",
      "157115          \n",
      "157116          \n",
      "157117          \n",
      "\n",
      "[157118 rows x 18 columns]\n"
     ]
    }
   ],
   "source": [
    "# # Null 값은 빈 문자열로 대체\n",
    "# data.fillna(\"\", inplace=True)\n",
    "# print(data)"
   ]
  },
  {
   "cell_type": "code",
   "execution_count": null,
   "metadata": {},
   "outputs": [
    {
     "name": "stdout",
     "output_type": "stream",
     "text": [
      "         SEQ_NO ISBN_THIRTEEN_NO VLM_NM  \\\n",
      "0       6352228    9791156759270          \n",
      "1       6352229    9791168120877          \n",
      "2       6352230    9791168120839          \n",
      "3       6352231    9791168120846          \n",
      "4       6352232    9791168120747          \n",
      "...         ...              ...    ...   \n",
      "157113  6372497    9781191496148          \n",
      "157114  6372498    9781161755015          \n",
      "157115  6372499    9781197192907          \n",
      "157116  6372500    9781188005384          \n",
      "157117  6372501    9781191334426          \n",
      "\n",
      "                                                 TITLE_NM  \\\n",
      "0                     너에게 목소리를 보낼게  달빛천사 성우 이용신의 첫 번째 에세이   \n",
      "1                    일기에도 거짓말을 쓰는 사람  99년생 시인의 자의식 과잉 에세이   \n",
      "2                              본격 한중일 세계사 12  임오군란과 통킹 위기   \n",
      "3                     즉시 기분을 바꿔드립니다  신기하게 마음이 편해지는 응급 처방전   \n",
      "4                                 오늘도 리추얼  음악 나에게 선물하는 시간   \n",
      "...                                                   ...   \n",
      "157113               설민석의 세계사 대모험 11 영국 산업 혁명 편 혁명에 맞선 자들   \n",
      "157114  A Clinical Atlas Variations of the Bones of th...   \n",
      "157115             과탑이 알려 주는 대학 생활 한 권으로 끝내기 어서와 대학은 처음이지   \n",
      "157116  중학영문법 총정리 한권으로 끝내기 EBS강사 혼공쌤 허준석의 쉽고 재미있게 끝내는 ...   \n",
      "157117                                더 빅 윈 이룰 것인가 남길 것인가   \n",
      "\n",
      "                    AUTHR_NM          PUBLISHER_NM PBLICTE_DE ADTION_SMBL_NM  \\\n",
      "0                    이용신 지은이                   푸른숲                             \n",
      "1                    차도하 지은이                위즈덤하우스                             \n",
      "2                  굽시니스트 지은이                위즈덤하우스                             \n",
      "3       올리비아 레메스 지은이 김잔디 옮긴이                위즈덤하우스                             \n",
      "4                    정혜윤 지은이                위즈덤하우스                             \n",
      "...                      ...                   ...        ...            ...   \n",
      "157113                김정욱설민석                  단꿈아이                             \n",
      "157114     Thomas Dwight 지은이  Kessinger Publishing                             \n",
      "157115                   조유림                 든든한서재                             \n",
      "157116                허준석정다운                  쏠티북스                             \n",
      "157117                   신문범                클라우드나인                             \n",
      "\n",
      "       PRC_VALUE                                          IMAGE_URL  \\\n",
      "0         160000  httpsimagealadincokrproduct284158coverk6528351...   \n",
      "1         158000  httpsimagealadincokrproduct2841466coverk202835...   \n",
      "2         148000  httpsimagealadincokrproduct2841447coverk402835...   \n",
      "3         140000  httpsimagealadincokrproduct2841430coverk892835...   \n",
      "4         150000  httpsimagealadincokrproduct2841380coverk202835...   \n",
      "...          ...                                                ...   \n",
      "157113                                                                \n",
      "157114            httpsimagealadincokrproduct727580cover11617550...   \n",
      "157115                                                                \n",
      "157116                                                                \n",
      "157117                                                                \n",
      "\n",
      "                                           BOOK_INTRCN_CN KDC_NM  \\\n",
      "0       2004년 방영한 애니메이션 달빛천사에서 주인공 루나풀문 역을 맡으며 90년대생들에...          \n",
      "1       그러니 나는 말하고 싶은 것을 말하겠다침착하게 사랑하기 차도하 시인 첫 에세이새롭고...          \n",
      "2       한중일 관계의 결정적 분기점인 임오군란의 막전 막후를 다룬다 러시아의 세력 확장을 ...          \n",
      "3       누구에게나 기분 구급상자가 필요하다 하나씩 하나씩 차근차근 좋은 기분을 쌓고 건강한...          \n",
      "4       나다운 일상을 만드는 사람들의 이야기를 담은 오늘도 리추얼 시리즈가 위즈덤하우스에서...          \n",
      "...                                                   ...    ...   \n",
      "157113                                                             \n",
      "157114                                                             \n",
      "157115                                                             \n",
      "157116                                                             \n",
      "157117                                                             \n",
      "\n",
      "                                            TITLE_SBST_NM    AUTHR_SBST_NM  \\\n",
      "0                                                                            \n",
      "1                                                                            \n",
      "2                                                                            \n",
      "3                                                                            \n",
      "4                                                                            \n",
      "...                                                   ...              ...   \n",
      "157113                         설민석의세계사대모험11영국산업혁명편혁명에맞선자들           김정욱설민석   \n",
      "157114  aclinicalatlasvariationsofthebonesofthehandsan...  thomasdwight지은이   \n",
      "157115                       과탑이알려주는대학생활한권으로끝내기어서와대학은처음이지              조유림   \n",
      "157116  중학영문법총정리한권으로끝내기ebs강사혼공쌤허준석의quot쉽고재미있게끝내는중학영문법quot           허준석정다운   \n",
      "157117                                      더빅윈이룰것인가남길것인가              신문범   \n",
      "\n",
      "       TWO_PBLICTE_DE INTNT_BOOKST_BOOK_EXST_AT PORTAL_SITE_BOOK_EXST_AT  \\\n",
      "0            20211203                                                      \n",
      "1            20211206                                                      \n",
      "2            20211201                                                      \n",
      "3            20211201                                                      \n",
      "4            20211201                                                      \n",
      "...               ...                       ...                      ...   \n",
      "157113                                        Y                        Y   \n",
      "157114       20100523                         Y                        Y   \n",
      "157115                                        Y                        Y   \n",
      "157116                                        Y                        Y   \n",
      "157117                                        Y                        Y   \n",
      "\n",
      "       ISBN_NO  \n",
      "0               \n",
      "1               \n",
      "2               \n",
      "3               \n",
      "4               \n",
      "...        ...  \n",
      "157113          \n",
      "157114          \n",
      "157115          \n",
      "157116          \n",
      "157117          \n",
      "\n",
      "[157118 rows x 18 columns]\n"
     ]
    }
   ],
   "source": [
    "# # 모든 열에 대해 특수 문자와 HTML 엔터티 코드 모두 제거\n",
    "# for col in data.columns:\n",
    "#     data[col] = data[col].apply(lambda x: re.sub(r'[^\\w\\s]', '', html.unescape(str(x))))\n",
    "# # 결과 출력\n",
    "# print(data)"
   ]
  },
  {
   "cell_type": "code",
   "execution_count": null,
   "metadata": {},
   "outputs": [],
   "source": [
    "# data.to_csv('../cleaned_data.csv', index=False, encoding='utf-8')"
   ]
  },
  {
   "cell_type": "markdown",
   "metadata": {},
   "source": [
    "#### TF-IDF\n",
    "사용해 텍스트 문서에서 각 단어의 중요성을 가중치로 나타내어 각 단어의 중요성을 나타내고, 주어진 문서 내에서 해당 단어가 얼마나 중요한지를 측정 (빈도수)"
   ]
  },
  {
   "cell_type": "code",
   "execution_count": null,
   "metadata": {},
   "outputs": [
    {
     "name": "stdout",
     "output_type": "stream",
     "text": [
      "       SEQ_NO  ISBN_THIRTEEN_NO VLM_NM                              TITLE_NM  \\\n",
      "0     6352228     9791156759270    NaN   너에게 목소리를 보낼게  달빛천사 성우 이용신의 첫 번째 에세이   \n",
      "1     6352229     9791168120877    NaN  일기에도 거짓말을 쓰는 사람  99년생 시인의 자의식 과잉 에세이   \n",
      "2     6352230     9791168120839    NaN            본격 한중일 세계사 12  임오군란과 통킹 위기   \n",
      "3     6352231     9791168120846    NaN   즉시 기분을 바꿔드립니다  신기하게 마음이 편해지는 응급 처방전   \n",
      "4     6352232     9791168120747    NaN               오늘도 리추얼  음악 나에게 선물하는 시간   \n",
      "...       ...               ...    ...                                   ...   \n",
      "1997  6354246     9791164670871    NaN                          학교 서클대화가 필요해   \n",
      "1998  6354247     9788994229003    NaN                      People Make City   \n",
      "1999  6354248     9788994027203    NaN                                 동방해경표   \n",
      "2000  6354249     9791156759126    NaN                      큰글자도서 그렇다면 정상입니다   \n",
      "2001  6354250     9788988963258    NaN                                 그 사람들   \n",
      "\n",
      "                  AUTHR_NM PUBLISHER_NM PBLICTE_DE  ADTION_SMBL_NM  PRC_VALUE  \\\n",
      "0                  이용신 지은이          푸른숲        NaN             NaN   160000.0   \n",
      "1                  차도하 지은이       위즈덤하우스        NaN             NaN   158000.0   \n",
      "2                굽시니스트 지은이       위즈덤하우스        NaN             NaN   148000.0   \n",
      "3     올리비아 레메스 지은이 김잔디 옮긴이       위즈덤하우스        NaN             NaN   140000.0   \n",
      "4                  정혜윤 지은이       위즈덤하우스        NaN             NaN   150000.0   \n",
      "...                    ...          ...        ...             ...        ...   \n",
      "1997       손연일 심선화 장경아 지은이          북트리        NaN             NaN   160000.0   \n",
      "1998               이상환 지은이       디자인로커스        NaN             NaN   150000.0   \n",
      "1999                 김려 지음        미디어버스        NaN             NaN        NaN   \n",
      "2000               하지현 지은이          푸른숲        NaN             NaN   360000.0   \n",
      "2001                김규태 지음           말쌈        NaN             NaN        NaN   \n",
      "\n",
      "                                              IMAGE_URL  \\\n",
      "0     httpsimagealadincokrproduct284158coverk6528351...   \n",
      "1     httpsimagealadincokrproduct2841466coverk202835...   \n",
      "2     httpsimagealadincokrproduct2841447coverk402835...   \n",
      "3     httpsimagealadincokrproduct2841430coverk892835...   \n",
      "4     httpsimagealadincokrproduct2841380coverk202835...   \n",
      "...                                                 ...   \n",
      "1997  httpsimagealadincokrproduct2837599coverk262835...   \n",
      "1998  httpsimagealadincokrproduct141865cover89942290...   \n",
      "1999                                                NaN   \n",
      "2000  httpsimagealadincokrproduct2834689coverk292835...   \n",
      "2001                                                NaN   \n",
      "\n",
      "                                         BOOK_INTRCN_CN  KDC_NM  \\\n",
      "0     2004년 방영한 애니메이션 달빛천사에서 주인공 루나풀문 역을 맡으며 90년대생들에...     NaN   \n",
      "1     그러니 나는 말하고 싶은 것을 말하겠다침착하게 사랑하기 차도하 시인 첫 에세이새롭고...     NaN   \n",
      "2     한중일 관계의 결정적 분기점인 임오군란의 막전 막후를 다룬다 러시아의 세력 확장을 ...     NaN   \n",
      "3     누구에게나 기분 구급상자가 필요하다 하나씩 하나씩 차근차근 좋은 기분을 쌓고 건강한...     NaN   \n",
      "4     나다운 일상을 만드는 사람들의 이야기를 담은 오늘도 리추얼 시리즈가 위즈덤하우스에서...     NaN   \n",
      "...                                                 ...     ...   \n",
      "1997  평화로운 학교 공동체의 여정으로 가는 친절한 안내서 관계를 회복하고 배움이 일어나는...     NaN   \n",
      "1998  따뜻한 성북동 만들기피블메이크시티시리즈는 대상지역의 문화 예술적 개발 방법론을 연구...     NaN   \n",
      "1999                                                NaN     NaN   \n",
      "2000  심야 치유 식당 사랑하기에 결코 늦지 않았다 엄마의 빈틈이 아이를 키운다 등을 통해...     NaN   \n",
      "2001                                                NaN     NaN   \n",
      "\n",
      "       TITLE_SBST_NM AUTHR_SBST_NM  TWO_PBLICTE_DE INTNT_BOOKST_BOOK_EXST_AT  \\\n",
      "0                NaN           NaN      20211203.0                       NaN   \n",
      "1                NaN           NaN      20211206.0                       NaN   \n",
      "2                NaN           NaN      20211201.0                       NaN   \n",
      "3                NaN           NaN      20211201.0                       NaN   \n",
      "4                NaN           NaN      20211201.0                       NaN   \n",
      "...              ...           ...             ...                       ...   \n",
      "1997      학교서클대화가필요해  손연일심선화장경아지은이      20211125.0                         Y   \n",
      "1998  peoplemakecity        이상환지은이      20111121.0                         Y   \n",
      "1999           동방해경표          김려지음             NaN                         Y   \n",
      "2000  큰글자도서그렇다면정상입니다        하지현지은이      20211028.0                         Y   \n",
      "2001            그사람들         김규태지음             NaN                         Y   \n",
      "\n",
      "     PORTAL_SITE_BOOK_EXST_AT  ISBN_NO  \n",
      "0                         NaN      NaN  \n",
      "1                         NaN      NaN  \n",
      "2                         NaN      NaN  \n",
      "3                         NaN      NaN  \n",
      "4                         NaN      NaN  \n",
      "...                       ...      ...  \n",
      "1997                        Y      NaN  \n",
      "1998                        Y      NaN  \n",
      "1999                        Y      NaN  \n",
      "2000                        Y      NaN  \n",
      "2001                        Y      NaN  \n",
      "\n",
      "[2002 rows x 18 columns]\n"
     ]
    }
   ],
   "source": [
    "# 데이터를 데이터프레임으로 로드\n",
    "data = pd.read_csv('../cleaned_data.csv', encoding='utf-8')# 데이터 파일 경로\n",
    "print(data)"
   ]
  },
  {
   "cell_type": "code",
   "execution_count": null,
   "metadata": {},
   "outputs": [],
   "source": [
    "data[\"BOOK_INTRCN_CN\"].fillna(\"NaN\", inplace=True)"
   ]
  },
  {
   "cell_type": "code",
   "execution_count": null,
   "metadata": {},
   "outputs": [],
   "source": [
    "# TF-IDF 벡터화기 생성\n",
    "tfidf_vectorizer = TfidfVectorizer()"
   ]
  },
  {
   "cell_type": "code",
   "execution_count": null,
   "metadata": {},
   "outputs": [],
   "source": [
    "# TF-IDF 매트릭스 계산\n",
    "tfidf_matrix = tfidf_vectorizer.fit_transform(data[\"BOOK_INTRCN_CN\"])"
   ]
  },
  {
   "cell_type": "code",
   "execution_count": null,
   "metadata": {},
   "outputs": [
    {
     "name": "stdout",
     "output_type": "stream",
     "text": [
      "  (0, 4856)\t0.07956134293673803\n",
      "  (0, 6217)\t0.1480195298363794\n",
      "  (0, 3027)\t0.17189629176721588\n",
      "  (0, 5059)\t0.17189629176721588\n",
      "  (0, 6121)\t0.1630840893574864\n",
      "  (0, 2330)\t0.17189629176721588\n",
      "  (0, 4100)\t0.14176717272500183\n",
      "  (0, 3776)\t0.17189629176721588\n",
      "  (0, 5268)\t0.17189629176721588\n",
      "  (0, 4940)\t0.17189629176721588\n",
      "  (0, 3708)\t0.14466928596811335\n",
      "  (0, 4239)\t0.1519820272991616\n",
      "  (0, 3114)\t0.12538502402599394\n",
      "  (0, 4694)\t0.34379258353443176\n",
      "  (0, 3584)\t0.34379258353443176\n",
      "  (0, 3531)\t0.17189629176721588\n",
      "  (0, 5580)\t0.17189629176721588\n",
      "  (0, 1374)\t0.1267026132038948\n",
      "  (0, 3159)\t0.17189629176721588\n",
      "  (0, 228)\t0.17189629176721588\n",
      "  (0, 2735)\t0.34379258353443176\n",
      "  (0, 4291)\t0.17189629176721588\n",
      "  (0, 2598)\t0.17189629176721588\n",
      "  (0, 5270)\t0.1480195298363794\n",
      "  (0, 2267)\t0.17189629176721588\n",
      "  :\t:\n",
      "  (2000, 6075)\t0.19216328182169165\n",
      "  (2000, 1790)\t0.19216328182169165\n",
      "  (2000, 5401)\t0.19216328182169165\n",
      "  (2000, 3485)\t0.19216328182169165\n",
      "  (2000, 3335)\t0.19216328182169165\n",
      "  (2000, 4340)\t0.19216328182169165\n",
      "  (2000, 2091)\t0.19216328182169165\n",
      "  (2000, 5695)\t0.19216328182169165\n",
      "  (2000, 4070)\t0.19216328182169165\n",
      "  (2000, 3299)\t0.19216328182169165\n",
      "  (2000, 4214)\t0.19216328182169165\n",
      "  (2000, 4105)\t0.19216328182169165\n",
      "  (2000, 2178)\t0.19216328182169165\n",
      "  (2000, 1469)\t0.19216328182169165\n",
      "  (2000, 3350)\t0.19216328182169165\n",
      "  (2000, 3913)\t0.19216328182169165\n",
      "  (2000, 3989)\t0.19216328182169165\n",
      "  (2000, 5013)\t0.17532257416585467\n",
      "  (2000, 3327)\t0.16990107723365608\n",
      "  (2000, 2892)\t0.16990107723365608\n",
      "  (2000, 1643)\t0.17532257416585467\n",
      "  (2000, 5627)\t0.18231209935741932\n",
      "  (2000, 2520)\t0.1530603695778191\n",
      "  (2000, 5745)\t0.10834236570876302\n",
      "  (2001, 848)\t1.0\n"
     ]
    }
   ],
   "source": [
    "print(tfidf_matrix) "
   ]
  },
  {
   "cell_type": "code",
   "execution_count": null,
   "metadata": {},
   "outputs": [],
   "source": [
    "# 코사인 유사도 계산\n",
    "cosine_sim = cosine_similarity(tfidf_matrix, tfidf_matrix)"
   ]
  },
  {
   "cell_type": "code",
   "execution_count": null,
   "metadata": {},
   "outputs": [
    {
     "name": "stdout",
     "output_type": "stream",
     "text": [
      "[[1.        0.0145301 0.        ... 0.        0.        0.       ]\n",
      " [0.0145301 1.        0.        ... 0.        0.        0.       ]\n",
      " [0.        0.        1.        ... 0.        0.        0.       ]\n",
      " ...\n",
      " [0.        0.        0.        ... 1.        0.        1.       ]\n",
      " [0.        0.        0.        ... 0.        1.        0.       ]\n",
      " [0.        0.        0.        ... 1.        0.        1.       ]]\n"
     ]
    }
   ],
   "source": [
    "print(cosine_sim)"
   ]
  },
  {
   "cell_type": "code",
   "execution_count": null,
   "metadata": {},
   "outputs": [],
   "source": [
    "# 선택한 줄거리\n",
    "selected_document = \"음악\""
   ]
  },
  {
   "cell_type": "code",
   "execution_count": null,
   "metadata": {},
   "outputs": [],
   "source": [
    "# TF-IDF 매트릭스에 주어진 줄거리를 추가\n",
    "# 선택한 단어(또는 문서)를 TF-IDF 가중치 벡터로 변환하여 저장\n",
    "tfidf_matrix_selected = tfidf_vectorizer.transform([selected_document])"
   ]
  },
  {
   "cell_type": "code",
   "execution_count": null,
   "metadata": {},
   "outputs": [],
   "source": [
    "# 주어진 줄거리와 다른 모든 도서의 유사도 계산\n",
    "# 선택한 단어(또는 문서)와 다른 모든 단어(또는 문서) 간의 코사인 유사도\n",
    "cosine_sim_selected = cosine_similarity(tfidf_matrix_selected, tfidf_matrix)\n",
    "similar_books = list(enumerate(cosine_sim_selected[0]))"
   ]
  },
  {
   "cell_type": "code",
   "execution_count": null,
   "metadata": {},
   "outputs": [],
   "source": [
    "# 가장 유사한 N개의 도서 추천\n",
    "# similar_books를 코사인 유사도 값에 따라 내림차순으로 정렬 -> 상위 N개의 유사한 단어를 선택하는 과정\n",
    "N = 5\n",
    "similar_books.sort(key=lambda x: x[1], reverse=True) # key 매개변수에는 x[1]을 사용하여 각 쌍(단어 인덱스, 유사도)에서 두 번째 요소, 즉 유사도 값을 기준으로 정렬\n",
    "recommended_books = similar_books[1:N + 1] # similar_books[1:N + 1]로 첫 번째 요소를 제외한 다음부터 N개까지의 요소를 선택 - > 첫번째는  similar_books 리스트 내에서 선택한 단어(또는 문서) 자체와의 유사도가 항상 1.0이 되기 때문"
   ]
  },
  {
   "cell_type": "code",
   "execution_count": null,
   "metadata": {},
   "outputs": [
    {
     "name": "stdout",
     "output_type": "stream",
     "text": [
      "선택한 줄거리: 음악\n",
      "제목: 너에게 목소리를 보낼게  달빛천사 성우 이용신의 첫 번째 에세이\n",
      "줄거리: 2004년 방영한 애니메이션 달빛천사에서 주인공 루나풀문 역을 맡으며 90년대생들에게 보석 같은 추억을 선물한 성우 이용신의 첫 번째 에세이 수많은 작품의 주연을 맡으며 쉬지 않고 대중에게 행복을 전해온 성우 이용신의 발자취를 확인할 수 있다\n",
      "유사도: 0.00\n",
      "\n",
      "제목: 일기에도 거짓말을 쓰는 사람  99년생 시인의 자의식 과잉 에세이\n",
      "줄거리: 그러니 나는 말하고 싶은 것을 말하겠다침착하게 사랑하기 차도하 시인 첫 에세이새롭고 도발적인 작품성으로 문단의 기대주로 떠오른 차도하 시인의 첫 번째 산문집이 출간됐다 혼자 보는 일기에도 거짓말을 쓸 수밖에 없었던 시인의 산문집 일기에도 거짓말을 쓰는 사람은 공교롭게도 보는 \n",
      "유사도: 0.00\n",
      "\n",
      "제목: 본격 한중일 세계사 12  임오군란과 통킹 위기\n",
      "줄거리: 한중일 관계의 결정적 분기점인 임오군란의 막전 막후를 다룬다 러시아의 세력 확장을 경계한 청은 친중결일연미라는 계책을 앞세워 조선에 대한 통제를 강화하고 이를 그냥 보아 넘길 수 없던 일본은 임오군란을 계기로 마수를 뻗치는데 정국 안정화와 근대 문물 도입을 향해 뛰어가는 조선의 앞에 놓인 거대한 장애물을 살펴본다\n",
      "유사도: 0.00\n",
      "\n",
      "제목: 즉시 기분을 바꿔드립니다  신기하게 마음이 편해지는 응급 처방전\n",
      "줄거리: 누구에게나 기분 구급상자가 필요하다 하나씩 하나씩 차근차근 좋은 기분을 쌓고 건강한 마음을 만드는 법을 담은 책이다\n",
      "유사도: 0.00\n",
      "\n",
      "제목: 지리산 1  김은희 대본집\n",
      "줄거리: 국립공원 최고의 레인저 서이강과 말 못 할 비밀을 가진 신입 레인저 강현조가 산에서 일어나는 의문의 사고를 파헤치며 벌어지는 이야기를 그린 지리산의 작가판 대본집이 출간된다 tvN 15주년 기념으로 기획된 이 드라마는 5년 7개월 만에 TV로 돌아온 김은희 작가의 복귀작으로 공개되자마자 두 자릿수 시청률을 기록하는 등 큰 화제를 모으고 있다\n",
      "유사도: 0.00\n",
      "\n"
     ]
    }
   ],
   "source": [
    "# 선택한 줄거리 출력\n",
    "print(f\"선택한 줄거리: {selected_document}\")\n",
    "# 추천된 도서 출력\n",
    "for i, score in recommended_books:\n",
    "    print(f\"제목: {data.loc[i, 'TITLE_NM']}\")\n",
    "    print(f\"줄거리: {data.loc[i, 'BOOK_INTRCN_CN']}\")\n",
    "    print(f\"유사도: {score:.2f}\")\n",
    "    print()"
   ]
  }
 ],
 "metadata": {
  "kernelspec": {
   "display_name": "Python 3",
   "language": "python",
   "name": "python3"
  },
  "language_info": {
   "codemirror_mode": {
    "name": "ipython",
    "version": 3
   },
   "file_extension": ".py",
   "mimetype": "text/x-python",
   "name": "python",
   "nbconvert_exporter": "python",
   "pygments_lexer": "ipython3",
   "version": "3.10.12"
  }
 },
 "nbformat": 4,
 "nbformat_minor": 2
}
